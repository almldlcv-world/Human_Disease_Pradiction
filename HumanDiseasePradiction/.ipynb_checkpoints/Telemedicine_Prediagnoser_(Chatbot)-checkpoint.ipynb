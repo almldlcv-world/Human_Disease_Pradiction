{
 "cells": [
  {
   "cell_type": "code",
   "execution_count": 1,
   "metadata": {
    "id": "WoZwru12RVaU"
   },
   "outputs": [],
   "source": [
    "import json\n",
    "\n",
    "#Loading Data\n",
    "with open(\"intents.json\") as file:\n",
    "\tdata = json.load(file)"
   ]
  },
  {
   "cell_type": "code",
   "execution_count": 2,
   "metadata": {
    "colab": {
     "base_uri": "https://localhost:8080/"
    },
    "id": "VlUOHdiuUMPo",
    "outputId": "256307b8-490a-4526-b05a-5b5e5fd192e1"
   },
   "outputs": [
    {
     "name": "stderr",
     "output_type": "stream",
     "text": [
      "[nltk_data] Downloading package punkt to\n",
      "[nltk_data]     C:\\Users\\TOTAN\\AppData\\Roaming\\nltk_data...\n",
      "[nltk_data]   Package punkt is already up-to-date!\n",
      "[nltk_data] Downloading package stopwords to\n",
      "[nltk_data]     C:\\Users\\TOTAN\\AppData\\Roaming\\nltk_data...\n",
      "[nltk_data]   Package stopwords is already up-to-date!\n"
     ]
    },
    {
     "data": {
      "text/plain": [
       "True"
      ]
     },
     "execution_count": 2,
     "metadata": {},
     "output_type": "execute_result"
    }
   ],
   "source": [
    "import nltk\n",
    "nltk.download('punkt')\n",
    "nltk.download('stopwords')"
   ]
  },
  {
   "cell_type": "code",
   "execution_count": 3,
   "metadata": {
    "id": "db1k_zgXElK_"
   },
   "outputs": [],
   "source": [
    "docs_x = []\n",
    "docs_y = []\n",
    "labels= []"
   ]
  },
  {
   "cell_type": "code",
   "execution_count": 4,
   "metadata": {
    "id": "rD7tS1SiT4Fd"
   },
   "outputs": [],
   "source": [
    "from nltk.tokenize import RegexpTokenizer\n",
    "from nltk.corpus import stopwords\n",
    "import string\n",
    "#from nltk.stem.lancaster import LancasterStemmer\n",
    "\n",
    "#stemming good?\n",
    "#stemmer = LancasterStemmer()\n",
    "rt = RegexpTokenizer(r'[^\\W_]+|[^\\W_\\s]+')\n",
    "stop = set(stopwords.words('english') + list(string.punctuation))\n",
    "#Looping through our data\n",
    "for intent in data['intents']:\n",
    "  words = []\n",
    "  for pattern in intent['patterns']:\n",
    "    pattern = pattern.lower()\n",
    "    #print(pattern)\n",
    "    #Creating a list of words\n",
    "    ###wrds = rt.tokenize(pattern)\n",
    "    wrds = [i for i in rt.tokenize(pattern) if i not in stop]\n",
    "    words.append(wrds)\n",
    "  docs_x.append(words)\n",
    "  docs_y.append(intent['tag'])"
   ]
  },
  {
   "cell_type": "code",
   "execution_count": 5,
   "metadata": {
    "colab": {
     "base_uri": "https://localhost:8080/"
    },
    "id": "kMasM6lIjbkY",
    "outputId": "587ada10-f27f-4af0-e15f-3853e1f03095"
   },
   "outputs": [
    {
     "name": "stdout",
     "output_type": "stream",
     "text": [
      "[[['skin', 'rash'], ['dischromic', 'patches'], ['itching'], ['nodal', 'skin', 'eruptions']], [['chills'], ['shivering'], ['continuous', 'sneezing']], [['vomiting'], ['chest', 'pain'], ['acidity'], ['ulcers', 'tongue'], ['stomach', 'pain'], ['cough']], [['vomiting'], ['nausea'], ['yellowish', 'skin'], ['abdominal', 'pain'], ['loss', 'appetite'], ['yellowing', 'eyes'], ['itching']], [['burning', 'micturition'], ['skin', 'rash'], ['spotting', 'urination'], ['stomach', 'pain'], ['itching']], [['vomiting'], ['indigestion'], ['passage', 'gases'], ['loss', 'appetite'], ['abdominal', 'pain'], ['internal', 'itching']], [['extra', 'marital', 'contacts'], ['patches', 'throat'], ['high', 'fever'], ['muscle', 'wasting']], [['lethargy'], ['increased', 'appetite'], ['fatigue'], ['obesity'], ['irregular', 'sugar', 'level'], ['restlessness'], ['weight', 'loss'], ['blurred', 'distorted', 'vision'], ['excessive', 'hunger'], ['polyuria']], [['diarrhoea'], ['vomiting'], ['dehydration'], ['sunken', 'eyes']], [['high', 'fever'], ['breathlessness'], ['fatigue'], ['mucoid', 'sputum'], ['cough'], ['family', 'history']], [['lack', 'concentration'], ['headache'], ['chest', 'pain'], ['dizziness'], ['loss', 'balance']], [['indigestion'], ['stiff', 'neck'], ['irritability'], ['headache'], ['acidity'], ['excessive', 'hunger'], ['blurred', 'distorted', 'vision'], ['depression'], ['visual', 'disturbances']], [['weakness', 'limbs'], ['back', 'pain'], ['dizziness'], ['neck', 'pain'], ['loss', 'balance']], [['headache'], ['vomiting'], ['weakness', 'one', 'body', 'side'], ['altered', 'sensorium']], [['vomiting'], ['high', 'fever'], ['fatigue'], ['yellowish', 'skin'], ['dark', 'urine'], ['abdominal', 'pain'], ['weight', 'loss'], ['itching']], [['vomiting'], ['high', 'fever'], ['nausea'], ['sweating'], ['headache'], ['muscle', 'pain'], ['diarrhoea'], ['chills']], [['high', 'fever'], ['lethargy'], ['fatigue'], ['headache'], ['loss', 'appetite'], ['mild', 'fever'], ['red', 'spots', 'body'], ['malaise'], ['skin', 'rash'], ['swelled', 'lymph', 'nodes'], ['itching']], [['vomiting'], ['high', 'fever'], ['joint', 'pain'], ['nausea'], ['pain', 'behind', 'eyes'], ['fatigue'], ['headache'], ['back', 'pain'], ['muscle', 'pain'], ['loss', 'appetite'], ['red', 'spots', 'body'], ['malaise'], ['skin', 'rash'], ['chills']], [['vomiting'], ['high', 'fever'], ['nausea'], ['fatigue'], ['headache'], ['abdominal', 'pain'], ['belly', 'pain'], ['constipation'], ['toxic', 'look', 'typhos'], ['diarrhoea'], ['chills']], [['vomiting'], ['joint', 'pain'], ['nausea'], ['muscle', 'pain'], ['yellowish', 'skin'], ['dark', 'urine'], ['loss', 'appetite'], ['abdominal', 'pain'], ['mild', 'fever'], ['diarrhoea'], ['yellowing', 'eyes']], [['lethargy'], ['fatigue'], ['yellowish', 'skin'], ['dark', 'urine'], ['loss', 'appetite'], ['abdominal', 'pain'], ['receiving', 'unsterile', 'injections'], ['receiving', 'blood', 'transfusion'], ['yellow', 'urine'], ['malaise'], ['yellowing', 'eyes'], ['itching']], [['nausea'], ['fatigue'], ['yellowish', 'skin'], ['loss', 'appetite'], ['yellowing', 'eyes'], ['family', 'history']], [['vomiting'], ['joint', 'pain'], ['nausea'], ['fatigue'], ['yellowish', 'skin'], ['dark', 'urine'], ['loss', 'appetite'], ['abdominal', 'pain'], ['yellowing', 'eyes']], [['vomiting'], ['high', 'fever'], ['joint', 'pain'], ['nausea'], ['fatigue'], ['yellowish', 'skin'], ['dark', 'urine'], ['loss', 'appetite'], ['abdominal', 'pain'], ['stomach', 'bleeding'], ['acute', 'liver', 'failure'], ['coma'], ['yellowing', 'eyes']], [['vomiting'], ['fluid', 'overload'], ['swelling', 'stomach'], ['history', 'alcohol', 'consumption'], ['yellowish', 'skin'], ['abdominal', 'pain'], ['distention', 'abdomen']], [['vomiting'], ['high', 'fever'], ['breathlessness'], ['sweating'], ['blood', 'sputum'], ['fatigue'], ['chest', 'pain'], ['phlegm'], ['loss', 'appetite'], ['mild', 'fever'], ['weight', 'loss'], ['malaise'], ['swelled', 'lymph', 'nodes'], ['yellowing', 'eyes'], ['chills'], ['cough']], [['high', 'fever'], ['sinus', 'pressure'], ['continuous', 'sneezing'], ['fatigue'], ['headache'], ['congestion'], ['chest', 'pain'], ['phlegm'], ['runny', 'nose'], ['muscle', 'pain'], ['loss', 'smell'], ['throat', 'irritation'], ['malaise'], ['swelled', 'lymph', 'nodes'], ['chills'], ['cough'], ['redness', 'eyes']], [['high', 'fever'], ['breathlessness'], ['sweating'], ['fatigue'], ['chest', 'pain'], ['rusty', 'sputum'], ['phlegm'], ['fast', 'heart', 'rate'], ['malaise'], ['chills'], ['cough']], [['pain', 'anal', 'region'], ['bloody', 'stool'], ['pain', 'bowel', 'movements'], ['constipation'], ['irritation', 'anus']], [['vomiting'], ['breathlessness'], ['sweating']], [['fatigue'], ['cramps'], ['obesity'], ['swollen', 'legs'], ['prominent', 'veins', 'calf'], ['bruising'], ['swollen', 'blood', 'vessels']], [['puffy', 'face', 'eyes'], ['lethargy'], ['irritability'], ['fatigue'], ['enlarged', 'thyroid'], ['cold', 'hands', 'feets'], ['dizziness'], ['weight', 'gain'], ['depression'], ['mood', 'swings'], ['swollen', 'extremeties'], ['abnormal', 'menstruation'], ['brittle', 'nails']], [['irritability'], ['sweating'], ['fatigue'], ['muscle', 'weakness'], ['excessive', 'hunger'], ['restlessness'], ['weight', 'loss'], ['fast', 'heart', 'rate'], ['diarrhoea'], ['mood', 'swings'], ['abnormal', 'menstruation']], [['vomiting'], ['nausea'], ['sweating'], ['irritability'], ['fatigue'], ['headache'], ['drying', 'tingling', 'lips'], ['excessive', 'hunger'], ['palpitations'], ['blurred', 'distorted', 'vision'], ['slurred', 'speech'], ['anxiety']], [['swelling', 'joints'], ['joint', 'pain'], ['hip', 'joint', 'pain'], ['painful', 'walking'], ['knee', 'pain'], ['neck', 'pain']], [['swelling', 'joints'], ['stiff', 'neck'], ['painful', 'walking'], ['muscle', 'weakness'], ['movement', 'stiffness']], [['vomiting'], ['nausea'], ['headache'], ['unsteadiness'], ['spinning', 'movements'], ['loss', 'balance']], [['skin', 'rash'], ['blackheads'], ['scurring'], ['pus', 'filled', 'pimples']], [['foul', 'smell', 'urine'], ['burning', 'micturition'], ['bladder', 'discomfort'], ['continuous', 'feel', 'urine']], [['joint', 'pain'], ['skin', 'peeling'], ['silver', 'like', 'dusting'], ['inflammatory', 'nails'], ['skin', 'rash'], ['small', 'dents', 'nails']], [['high', 'fever'], ['blister'], ['red', 'sore', 'around', 'nose'], ['yellow', 'crust', 'ooze'], ['skin', 'rash']]]\n",
      "['Fungal infection', 'Allergy', 'GERD', 'Chronic cholestasis', 'Drug Reaction', 'Peptic ulcer diseae', 'AIDS', 'Diabetes ', 'Gastroenteritis', 'Bronchial Asthma', 'Hypertension ', 'Migraine', 'Cervical spondylosis', 'Paralysis (brain hemorrhage)', 'Jaundice', 'Malaria', 'Chicken pox', 'Dengue', 'Typhoid', 'hepatitis A', 'Hepatitis B', 'Hepatitis C', 'Hepatitis D', 'Hepatitis E', 'Alcoholic hepatitis', 'Tuberculosis', 'Common Cold', 'Pneumonia', 'Dimorphic hemmorhoids(piles)', 'Heart attack', 'Varicose veins', 'Hypothyroidism', 'Hyperthyroidism', 'Hypoglycemia', 'Osteoarthristis', 'Arthritis', '(vertigo) Paroymsal  Positional Vertigo', 'Acne', 'Urinary tract infection', 'Psoriasis', 'Impetigo']\n",
      "41\n"
     ]
    }
   ],
   "source": [
    "print(docs_x)\n",
    "print(docs_y)\n",
    "print(len(docs_y))"
   ]
  },
  {
   "cell_type": "code",
   "execution_count": 6,
   "metadata": {
    "colab": {
     "base_uri": "https://localhost:8080/"
    },
    "id": "uLQ6MXWOXJeL",
    "outputId": "8be45d4e-1562-4eeb-c905-ed589bb5ea8a"
   },
   "outputs": [
    {
     "name": "stderr",
     "output_type": "stream",
     "text": [
      "  0% |                                                                        |\r"
     ]
    },
    {
     "ename": "KeyboardInterrupt",
     "evalue": "",
     "output_type": "error",
     "traceback": [
      "\u001b[1;31m---------------------------------------------------------------------------\u001b[0m",
      "\u001b[1;31mKeyboardInterrupt\u001b[0m                         Traceback (most recent call last)",
      "\u001b[1;32m~\\AppData\\Local\\Temp\\ipykernel_4768\\4256989430.py\u001b[0m in \u001b[0;36m<module>\u001b[1;34m\u001b[0m\n\u001b[0;32m     18\u001b[0m \u001b[1;33m\u001b[0m\u001b[0m\n\u001b[0;32m     19\u001b[0m \u001b[1;31m#urllib.request.urlretrieve(model_url, model_file, show_progress)\u001b[0m\u001b[1;33m\u001b[0m\u001b[1;33m\u001b[0m\u001b[1;33m\u001b[0m\u001b[0m\n\u001b[1;32m---> 20\u001b[1;33m \u001b[0murllib\u001b[0m\u001b[1;33m.\u001b[0m\u001b[0mrequest\u001b[0m\u001b[1;33m.\u001b[0m\u001b[0murlretrieve\u001b[0m\u001b[1;33m(\u001b[0m\u001b[1;34m'https://nlp.stanford.edu/data/glove.6B.zip'\u001b[0m\u001b[1;33m,\u001b[0m\u001b[1;34m'glove.6B.zip'\u001b[0m\u001b[1;33m,\u001b[0m \u001b[0mshow_progress\u001b[0m\u001b[1;33m)\u001b[0m\u001b[1;33m\u001b[0m\u001b[1;33m\u001b[0m\u001b[0m\n\u001b[0m",
      "\u001b[1;32m~\\anaconda3\\envs\\myenv1\\lib\\urllib\\request.py\u001b[0m in \u001b[0;36murlretrieve\u001b[1;34m(url, filename, reporthook, data)\u001b[0m\n\u001b[0;32m    274\u001b[0m \u001b[1;33m\u001b[0m\u001b[0m\n\u001b[0;32m    275\u001b[0m             \u001b[1;32mwhile\u001b[0m \u001b[1;32mTrue\u001b[0m\u001b[1;33m:\u001b[0m\u001b[1;33m\u001b[0m\u001b[1;33m\u001b[0m\u001b[0m\n\u001b[1;32m--> 276\u001b[1;33m                 \u001b[0mblock\u001b[0m \u001b[1;33m=\u001b[0m \u001b[0mfp\u001b[0m\u001b[1;33m.\u001b[0m\u001b[0mread\u001b[0m\u001b[1;33m(\u001b[0m\u001b[0mbs\u001b[0m\u001b[1;33m)\u001b[0m\u001b[1;33m\u001b[0m\u001b[1;33m\u001b[0m\u001b[0m\n\u001b[0m\u001b[0;32m    277\u001b[0m                 \u001b[1;32mif\u001b[0m \u001b[1;32mnot\u001b[0m \u001b[0mblock\u001b[0m\u001b[1;33m:\u001b[0m\u001b[1;33m\u001b[0m\u001b[1;33m\u001b[0m\u001b[0m\n\u001b[0;32m    278\u001b[0m                     \u001b[1;32mbreak\u001b[0m\u001b[1;33m\u001b[0m\u001b[1;33m\u001b[0m\u001b[0m\n",
      "\u001b[1;32m~\\anaconda3\\envs\\myenv1\\lib\\http\\client.py\u001b[0m in \u001b[0;36mread\u001b[1;34m(self, amt)\u001b[0m\n\u001b[0;32m    463\u001b[0m             \u001b[1;31m# Amount is given, implement using readinto\u001b[0m\u001b[1;33m\u001b[0m\u001b[1;33m\u001b[0m\u001b[1;33m\u001b[0m\u001b[0m\n\u001b[0;32m    464\u001b[0m             \u001b[0mb\u001b[0m \u001b[1;33m=\u001b[0m \u001b[0mbytearray\u001b[0m\u001b[1;33m(\u001b[0m\u001b[0mamt\u001b[0m\u001b[1;33m)\u001b[0m\u001b[1;33m\u001b[0m\u001b[1;33m\u001b[0m\u001b[0m\n\u001b[1;32m--> 465\u001b[1;33m             \u001b[0mn\u001b[0m \u001b[1;33m=\u001b[0m \u001b[0mself\u001b[0m\u001b[1;33m.\u001b[0m\u001b[0mreadinto\u001b[0m\u001b[1;33m(\u001b[0m\u001b[0mb\u001b[0m\u001b[1;33m)\u001b[0m\u001b[1;33m\u001b[0m\u001b[1;33m\u001b[0m\u001b[0m\n\u001b[0m\u001b[0;32m    466\u001b[0m             \u001b[1;32mreturn\u001b[0m \u001b[0mmemoryview\u001b[0m\u001b[1;33m(\u001b[0m\u001b[0mb\u001b[0m\u001b[1;33m)\u001b[0m\u001b[1;33m[\u001b[0m\u001b[1;33m:\u001b[0m\u001b[0mn\u001b[0m\u001b[1;33m]\u001b[0m\u001b[1;33m.\u001b[0m\u001b[0mtobytes\u001b[0m\u001b[1;33m(\u001b[0m\u001b[1;33m)\u001b[0m\u001b[1;33m\u001b[0m\u001b[1;33m\u001b[0m\u001b[0m\n\u001b[0;32m    467\u001b[0m         \u001b[1;32melse\u001b[0m\u001b[1;33m:\u001b[0m\u001b[1;33m\u001b[0m\u001b[1;33m\u001b[0m\u001b[0m\n",
      "\u001b[1;32m~\\anaconda3\\envs\\myenv1\\lib\\http\\client.py\u001b[0m in \u001b[0;36mreadinto\u001b[1;34m(self, b)\u001b[0m\n\u001b[0;32m    507\u001b[0m         \u001b[1;31m# connection, and the user is reading more bytes than will be provided\u001b[0m\u001b[1;33m\u001b[0m\u001b[1;33m\u001b[0m\u001b[1;33m\u001b[0m\u001b[0m\n\u001b[0;32m    508\u001b[0m         \u001b[1;31m# (for example, reading in 1k chunks)\u001b[0m\u001b[1;33m\u001b[0m\u001b[1;33m\u001b[0m\u001b[1;33m\u001b[0m\u001b[0m\n\u001b[1;32m--> 509\u001b[1;33m         \u001b[0mn\u001b[0m \u001b[1;33m=\u001b[0m \u001b[0mself\u001b[0m\u001b[1;33m.\u001b[0m\u001b[0mfp\u001b[0m\u001b[1;33m.\u001b[0m\u001b[0mreadinto\u001b[0m\u001b[1;33m(\u001b[0m\u001b[0mb\u001b[0m\u001b[1;33m)\u001b[0m\u001b[1;33m\u001b[0m\u001b[1;33m\u001b[0m\u001b[0m\n\u001b[0m\u001b[0;32m    510\u001b[0m         \u001b[1;32mif\u001b[0m \u001b[1;32mnot\u001b[0m \u001b[0mn\u001b[0m \u001b[1;32mand\u001b[0m \u001b[0mb\u001b[0m\u001b[1;33m:\u001b[0m\u001b[1;33m\u001b[0m\u001b[1;33m\u001b[0m\u001b[0m\n\u001b[0;32m    511\u001b[0m             \u001b[1;31m# Ideally, we would raise IncompleteRead if the content-length\u001b[0m\u001b[1;33m\u001b[0m\u001b[1;33m\u001b[0m\u001b[1;33m\u001b[0m\u001b[0m\n",
      "\u001b[1;32m~\\anaconda3\\envs\\myenv1\\lib\\socket.py\u001b[0m in \u001b[0;36mreadinto\u001b[1;34m(self, b)\u001b[0m\n\u001b[0;32m    587\u001b[0m         \u001b[1;32mwhile\u001b[0m \u001b[1;32mTrue\u001b[0m\u001b[1;33m:\u001b[0m\u001b[1;33m\u001b[0m\u001b[1;33m\u001b[0m\u001b[0m\n\u001b[0;32m    588\u001b[0m             \u001b[1;32mtry\u001b[0m\u001b[1;33m:\u001b[0m\u001b[1;33m\u001b[0m\u001b[1;33m\u001b[0m\u001b[0m\n\u001b[1;32m--> 589\u001b[1;33m                 \u001b[1;32mreturn\u001b[0m \u001b[0mself\u001b[0m\u001b[1;33m.\u001b[0m\u001b[0m_sock\u001b[0m\u001b[1;33m.\u001b[0m\u001b[0mrecv_into\u001b[0m\u001b[1;33m(\u001b[0m\u001b[0mb\u001b[0m\u001b[1;33m)\u001b[0m\u001b[1;33m\u001b[0m\u001b[1;33m\u001b[0m\u001b[0m\n\u001b[0m\u001b[0;32m    590\u001b[0m             \u001b[1;32mexcept\u001b[0m \u001b[0mtimeout\u001b[0m\u001b[1;33m:\u001b[0m\u001b[1;33m\u001b[0m\u001b[1;33m\u001b[0m\u001b[0m\n\u001b[0;32m    591\u001b[0m                 \u001b[0mself\u001b[0m\u001b[1;33m.\u001b[0m\u001b[0m_timeout_occurred\u001b[0m \u001b[1;33m=\u001b[0m \u001b[1;32mTrue\u001b[0m\u001b[1;33m\u001b[0m\u001b[1;33m\u001b[0m\u001b[0m\n",
      "\u001b[1;31mKeyboardInterrupt\u001b[0m: "
     ]
    }
   ],
   "source": [
    "import progressbar\n",
    "import urllib.request\n",
    "\n",
    "pbar = None\n",
    "def show_progress(block_num, block_size, total_size):\n",
    "    global pbar\n",
    "    if pbar is None:\n",
    "        pbar = progressbar.ProgressBar(maxval=total_size)\n",
    "        pbar.start()\n",
    "\n",
    "    downloaded = block_num * block_size\n",
    "    if downloaded < total_size:\n",
    "        pbar.update(downloaded)\n",
    "    else:\n",
    "        pbar.finish()\n",
    "        pbar = None\n",
    "\n",
    "\n",
    "#urllib.request.urlretrieve(model_url, model_file, show_progress)\n",
    "urllib.request.urlretrieve('https://nlp.stanford.edu/data/glove.6B.zip','glove.6B.zip', show_progress)"
   ]
  },
  {
   "cell_type": "code",
   "execution_count": 7,
   "metadata": {
    "colab": {
     "base_uri": "https://localhost:8080/"
    },
    "id": "nhereHcyfkt1",
    "outputId": "0adb9683-5943-4521-eb1f-9944e2d16062"
   },
   "outputs": [
    {
     "name": "stderr",
     "output_type": "stream",
     "text": [
      "'unzip' is not recognized as an internal or external command,\n",
      "operable program or batch file.\n"
     ]
    }
   ],
   "source": [
    "!unzip \"/content/glove.6B.zip\" -d \"/content/\""
   ]
  },
  {
   "cell_type": "code",
   "execution_count": 8,
   "metadata": {},
   "outputs": [
    {
     "data": {
      "text/plain": [
       "[[['skin', 'rash'],\n",
       "  ['dischromic', 'patches'],\n",
       "  ['itching'],\n",
       "  ['nodal', 'skin', 'eruptions']],\n",
       " [['chills'], ['shivering'], ['continuous', 'sneezing']],\n",
       " [['vomiting'],\n",
       "  ['chest', 'pain'],\n",
       "  ['acidity'],\n",
       "  ['ulcers', 'tongue'],\n",
       "  ['stomach', 'pain'],\n",
       "  ['cough']],\n",
       " [['vomiting'],\n",
       "  ['nausea'],\n",
       "  ['yellowish', 'skin'],\n",
       "  ['abdominal', 'pain'],\n",
       "  ['loss', 'appetite'],\n",
       "  ['yellowing', 'eyes'],\n",
       "  ['itching']],\n",
       " [['burning', 'micturition'],\n",
       "  ['skin', 'rash'],\n",
       "  ['spotting', 'urination'],\n",
       "  ['stomach', 'pain'],\n",
       "  ['itching']],\n",
       " [['vomiting'],\n",
       "  ['indigestion'],\n",
       "  ['passage', 'gases'],\n",
       "  ['loss', 'appetite'],\n",
       "  ['abdominal', 'pain'],\n",
       "  ['internal', 'itching']],\n",
       " [['extra', 'marital', 'contacts'],\n",
       "  ['patches', 'throat'],\n",
       "  ['high', 'fever'],\n",
       "  ['muscle', 'wasting']],\n",
       " [['lethargy'],\n",
       "  ['increased', 'appetite'],\n",
       "  ['fatigue'],\n",
       "  ['obesity'],\n",
       "  ['irregular', 'sugar', 'level'],\n",
       "  ['restlessness'],\n",
       "  ['weight', 'loss'],\n",
       "  ['blurred', 'distorted', 'vision'],\n",
       "  ['excessive', 'hunger'],\n",
       "  ['polyuria']],\n",
       " [['diarrhoea'], ['vomiting'], ['dehydration'], ['sunken', 'eyes']],\n",
       " [['high', 'fever'],\n",
       "  ['breathlessness'],\n",
       "  ['fatigue'],\n",
       "  ['mucoid', 'sputum'],\n",
       "  ['cough'],\n",
       "  ['family', 'history']],\n",
       " [['lack', 'concentration'],\n",
       "  ['headache'],\n",
       "  ['chest', 'pain'],\n",
       "  ['dizziness'],\n",
       "  ['loss', 'balance']],\n",
       " [['indigestion'],\n",
       "  ['stiff', 'neck'],\n",
       "  ['irritability'],\n",
       "  ['headache'],\n",
       "  ['acidity'],\n",
       "  ['excessive', 'hunger'],\n",
       "  ['blurred', 'distorted', 'vision'],\n",
       "  ['depression'],\n",
       "  ['visual', 'disturbances']],\n",
       " [['weakness', 'limbs'],\n",
       "  ['back', 'pain'],\n",
       "  ['dizziness'],\n",
       "  ['neck', 'pain'],\n",
       "  ['loss', 'balance']],\n",
       " [['headache'],\n",
       "  ['vomiting'],\n",
       "  ['weakness', 'one', 'body', 'side'],\n",
       "  ['altered', 'sensorium']],\n",
       " [['vomiting'],\n",
       "  ['high', 'fever'],\n",
       "  ['fatigue'],\n",
       "  ['yellowish', 'skin'],\n",
       "  ['dark', 'urine'],\n",
       "  ['abdominal', 'pain'],\n",
       "  ['weight', 'loss'],\n",
       "  ['itching']],\n",
       " [['vomiting'],\n",
       "  ['high', 'fever'],\n",
       "  ['nausea'],\n",
       "  ['sweating'],\n",
       "  ['headache'],\n",
       "  ['muscle', 'pain'],\n",
       "  ['diarrhoea'],\n",
       "  ['chills']],\n",
       " [['high', 'fever'],\n",
       "  ['lethargy'],\n",
       "  ['fatigue'],\n",
       "  ['headache'],\n",
       "  ['loss', 'appetite'],\n",
       "  ['mild', 'fever'],\n",
       "  ['red', 'spots', 'body'],\n",
       "  ['malaise'],\n",
       "  ['skin', 'rash'],\n",
       "  ['swelled', 'lymph', 'nodes'],\n",
       "  ['itching']],\n",
       " [['vomiting'],\n",
       "  ['high', 'fever'],\n",
       "  ['joint', 'pain'],\n",
       "  ['nausea'],\n",
       "  ['pain', 'behind', 'eyes'],\n",
       "  ['fatigue'],\n",
       "  ['headache'],\n",
       "  ['back', 'pain'],\n",
       "  ['muscle', 'pain'],\n",
       "  ['loss', 'appetite'],\n",
       "  ['red', 'spots', 'body'],\n",
       "  ['malaise'],\n",
       "  ['skin', 'rash'],\n",
       "  ['chills']],\n",
       " [['vomiting'],\n",
       "  ['high', 'fever'],\n",
       "  ['nausea'],\n",
       "  ['fatigue'],\n",
       "  ['headache'],\n",
       "  ['abdominal', 'pain'],\n",
       "  ['belly', 'pain'],\n",
       "  ['constipation'],\n",
       "  ['toxic', 'look', 'typhos'],\n",
       "  ['diarrhoea'],\n",
       "  ['chills']],\n",
       " [['vomiting'],\n",
       "  ['joint', 'pain'],\n",
       "  ['nausea'],\n",
       "  ['muscle', 'pain'],\n",
       "  ['yellowish', 'skin'],\n",
       "  ['dark', 'urine'],\n",
       "  ['loss', 'appetite'],\n",
       "  ['abdominal', 'pain'],\n",
       "  ['mild', 'fever'],\n",
       "  ['diarrhoea'],\n",
       "  ['yellowing', 'eyes']],\n",
       " [['lethargy'],\n",
       "  ['fatigue'],\n",
       "  ['yellowish', 'skin'],\n",
       "  ['dark', 'urine'],\n",
       "  ['loss', 'appetite'],\n",
       "  ['abdominal', 'pain'],\n",
       "  ['receiving', 'unsterile', 'injections'],\n",
       "  ['receiving', 'blood', 'transfusion'],\n",
       "  ['yellow', 'urine'],\n",
       "  ['malaise'],\n",
       "  ['yellowing', 'eyes'],\n",
       "  ['itching']],\n",
       " [['nausea'],\n",
       "  ['fatigue'],\n",
       "  ['yellowish', 'skin'],\n",
       "  ['loss', 'appetite'],\n",
       "  ['yellowing', 'eyes'],\n",
       "  ['family', 'history']],\n",
       " [['vomiting'],\n",
       "  ['joint', 'pain'],\n",
       "  ['nausea'],\n",
       "  ['fatigue'],\n",
       "  ['yellowish', 'skin'],\n",
       "  ['dark', 'urine'],\n",
       "  ['loss', 'appetite'],\n",
       "  ['abdominal', 'pain'],\n",
       "  ['yellowing', 'eyes']],\n",
       " [['vomiting'],\n",
       "  ['high', 'fever'],\n",
       "  ['joint', 'pain'],\n",
       "  ['nausea'],\n",
       "  ['fatigue'],\n",
       "  ['yellowish', 'skin'],\n",
       "  ['dark', 'urine'],\n",
       "  ['loss', 'appetite'],\n",
       "  ['abdominal', 'pain'],\n",
       "  ['stomach', 'bleeding'],\n",
       "  ['acute', 'liver', 'failure'],\n",
       "  ['coma'],\n",
       "  ['yellowing', 'eyes']],\n",
       " [['vomiting'],\n",
       "  ['fluid', 'overload'],\n",
       "  ['swelling', 'stomach'],\n",
       "  ['history', 'alcohol', 'consumption'],\n",
       "  ['yellowish', 'skin'],\n",
       "  ['abdominal', 'pain'],\n",
       "  ['distention', 'abdomen']],\n",
       " [['vomiting'],\n",
       "  ['high', 'fever'],\n",
       "  ['breathlessness'],\n",
       "  ['sweating'],\n",
       "  ['blood', 'sputum'],\n",
       "  ['fatigue'],\n",
       "  ['chest', 'pain'],\n",
       "  ['phlegm'],\n",
       "  ['loss', 'appetite'],\n",
       "  ['mild', 'fever'],\n",
       "  ['weight', 'loss'],\n",
       "  ['malaise'],\n",
       "  ['swelled', 'lymph', 'nodes'],\n",
       "  ['yellowing', 'eyes'],\n",
       "  ['chills'],\n",
       "  ['cough']],\n",
       " [['high', 'fever'],\n",
       "  ['sinus', 'pressure'],\n",
       "  ['continuous', 'sneezing'],\n",
       "  ['fatigue'],\n",
       "  ['headache'],\n",
       "  ['congestion'],\n",
       "  ['chest', 'pain'],\n",
       "  ['phlegm'],\n",
       "  ['runny', 'nose'],\n",
       "  ['muscle', 'pain'],\n",
       "  ['loss', 'smell'],\n",
       "  ['throat', 'irritation'],\n",
       "  ['malaise'],\n",
       "  ['swelled', 'lymph', 'nodes'],\n",
       "  ['chills'],\n",
       "  ['cough'],\n",
       "  ['redness', 'eyes']],\n",
       " [['high', 'fever'],\n",
       "  ['breathlessness'],\n",
       "  ['sweating'],\n",
       "  ['fatigue'],\n",
       "  ['chest', 'pain'],\n",
       "  ['rusty', 'sputum'],\n",
       "  ['phlegm'],\n",
       "  ['fast', 'heart', 'rate'],\n",
       "  ['malaise'],\n",
       "  ['chills'],\n",
       "  ['cough']],\n",
       " [['pain', 'anal', 'region'],\n",
       "  ['bloody', 'stool'],\n",
       "  ['pain', 'bowel', 'movements'],\n",
       "  ['constipation'],\n",
       "  ['irritation', 'anus']],\n",
       " [['vomiting'], ['breathlessness'], ['sweating']],\n",
       " [['fatigue'],\n",
       "  ['cramps'],\n",
       "  ['obesity'],\n",
       "  ['swollen', 'legs'],\n",
       "  ['prominent', 'veins', 'calf'],\n",
       "  ['bruising'],\n",
       "  ['swollen', 'blood', 'vessels']],\n",
       " [['puffy', 'face', 'eyes'],\n",
       "  ['lethargy'],\n",
       "  ['irritability'],\n",
       "  ['fatigue'],\n",
       "  ['enlarged', 'thyroid'],\n",
       "  ['cold', 'hands', 'feets'],\n",
       "  ['dizziness'],\n",
       "  ['weight', 'gain'],\n",
       "  ['depression'],\n",
       "  ['mood', 'swings'],\n",
       "  ['swollen', 'extremeties'],\n",
       "  ['abnormal', 'menstruation'],\n",
       "  ['brittle', 'nails']],\n",
       " [['irritability'],\n",
       "  ['sweating'],\n",
       "  ['fatigue'],\n",
       "  ['muscle', 'weakness'],\n",
       "  ['excessive', 'hunger'],\n",
       "  ['restlessness'],\n",
       "  ['weight', 'loss'],\n",
       "  ['fast', 'heart', 'rate'],\n",
       "  ['diarrhoea'],\n",
       "  ['mood', 'swings'],\n",
       "  ['abnormal', 'menstruation']],\n",
       " [['vomiting'],\n",
       "  ['nausea'],\n",
       "  ['sweating'],\n",
       "  ['irritability'],\n",
       "  ['fatigue'],\n",
       "  ['headache'],\n",
       "  ['drying', 'tingling', 'lips'],\n",
       "  ['excessive', 'hunger'],\n",
       "  ['palpitations'],\n",
       "  ['blurred', 'distorted', 'vision'],\n",
       "  ['slurred', 'speech'],\n",
       "  ['anxiety']],\n",
       " [['swelling', 'joints'],\n",
       "  ['joint', 'pain'],\n",
       "  ['hip', 'joint', 'pain'],\n",
       "  ['painful', 'walking'],\n",
       "  ['knee', 'pain'],\n",
       "  ['neck', 'pain']],\n",
       " [['swelling', 'joints'],\n",
       "  ['stiff', 'neck'],\n",
       "  ['painful', 'walking'],\n",
       "  ['muscle', 'weakness'],\n",
       "  ['movement', 'stiffness']],\n",
       " [['vomiting'],\n",
       "  ['nausea'],\n",
       "  ['headache'],\n",
       "  ['unsteadiness'],\n",
       "  ['spinning', 'movements'],\n",
       "  ['loss', 'balance']],\n",
       " [['skin', 'rash'],\n",
       "  ['blackheads'],\n",
       "  ['scurring'],\n",
       "  ['pus', 'filled', 'pimples']],\n",
       " [['foul', 'smell', 'urine'],\n",
       "  ['burning', 'micturition'],\n",
       "  ['bladder', 'discomfort'],\n",
       "  ['continuous', 'feel', 'urine']],\n",
       " [['joint', 'pain'],\n",
       "  ['skin', 'peeling'],\n",
       "  ['silver', 'like', 'dusting'],\n",
       "  ['inflammatory', 'nails'],\n",
       "  ['skin', 'rash'],\n",
       "  ['small', 'dents', 'nails']],\n",
       " [['high', 'fever'],\n",
       "  ['blister'],\n",
       "  ['red', 'sore', 'around', 'nose'],\n",
       "  ['yellow', 'crust', 'ooze'],\n",
       "  ['skin', 'rash']]]"
      ]
     },
     "execution_count": 8,
     "metadata": {},
     "output_type": "execute_result"
    }
   ],
   "source": [
    "docs_x\n"
   ]
  },
  {
   "cell_type": "code",
   "execution_count": 13,
   "metadata": {
    "colab": {
     "base_uri": "https://localhost:8080/"
    },
    "id": "4B2Sl1C3ZQZ2",
    "outputId": "170355f0-05c1-4206-aec7-12b253f578d5"
   },
   "outputs": [
    {
     "name": "stdout",
     "output_type": "stream",
     "text": [
      "Found 400000 word vectors.\n"
     ]
    }
   ],
   "source": [
    "import numpy as np\n",
    "\n",
    "embeddings_index = dict()\n",
    "f = open('glove.6B.300d.txt', encoding=\"utf8\")\n",
    "\n",
    "for line in f:\n",
    "    word, coefs = line.split(maxsplit=1)\n",
    "    coefs = np.fromstring(coefs, \"f\", sep=\" \")\n",
    "    embeddings_index[word] = coefs\n",
    "\n",
    "print(\"Found %s word vectors.\" % len(embeddings_index))"
   ]
  },
  {
   "cell_type": "code",
   "execution_count": 14,
   "metadata": {
    "colab": {
     "base_uri": "https://localhost:8080/"
    },
    "id": "XlO6XgVtZrWC",
    "outputId": "d7a004e4-94a3-4aa3-ba96-fd4e138d62cf"
   },
   "outputs": [
    {
     "name": "stdout",
     "output_type": "stream",
     "text": [
      "(300,)\n"
     ]
    }
   ],
   "source": [
    "#testing embeddings\n",
    "\n",
    "embedding_vector = embeddings_index.get(\"ulcer\")\n",
    "print(embedding_vector.shape)\n",
    "arr = np.zeros(300)"
   ]
  },
  {
   "cell_type": "code",
   "execution_count": 15,
   "metadata": {
    "colab": {
     "base_uri": "https://localhost:8080/"
    },
    "id": "lF69clZdacgi",
    "outputId": "958c9b15-e62b-4fe3-8cfd-e1f2b2e4873d"
   },
   "outputs": [
    {
     "name": "stdout",
     "output_type": "stream",
     "text": [
      "41\n",
      "17\n",
      "543\n"
     ]
    }
   ],
   "source": [
    "diseases = 0\n",
    "word_count = 0\n",
    "max_symptoms_count = 0\n",
    "for symptoms_of_1_disease in docs_x:\n",
    "  diseases += 1\n",
    "  max_symptoms_count = max(max_symptoms_count, len(symptoms_of_1_disease))\n",
    "  for individual_symptom in symptoms_of_1_disease:\n",
    "    for word in individual_symptom:\n",
    "      word_count+=1\n",
    "print(diseases)\n",
    "print(max_symptoms_count)\n",
    "print(word_count)"
   ]
  },
  {
   "cell_type": "code",
   "execution_count": 16,
   "metadata": {
    "colab": {
     "base_uri": "https://localhost:8080/"
    },
    "id": "3KuHHnTiP_NM",
    "outputId": "139043c9-ad33-4d7f-8cb1-7ca695e5a387"
   },
   "outputs": [
    {
     "data": {
      "text/plain": [
       "41"
      ]
     },
     "execution_count": 16,
     "metadata": {},
     "output_type": "execute_result"
    }
   ],
   "source": [
    "len(docs_x)"
   ]
  },
  {
   "cell_type": "code",
   "execution_count": 17,
   "metadata": {
    "id": "rkSAdO1qImb7"
   },
   "outputs": [],
   "source": [
    "import keras\n",
    "import random\n",
    "\n",
    "class DataGen(keras.utils.all_utils.Sequence):\n",
    "    def __init__(self, docs_x, output, batch_size=8):\n",
    "        self.docs_x = docs_x\n",
    "        self.output = output\n",
    "        self.batch_size = batch_size\n",
    "        self.on_epoch_end()\n",
    "        self.hits=0\n",
    "        self.misses=0\n",
    "    \n",
    "    def __getitem__(self, index):\n",
    "        if((index+1)*self.batch_size > len(self.docs_x)):\n",
    "            self.batch_size = len(self.docs_x) - index*self.batch_size\n",
    "        \n",
    "        inp_batch = self.docs_x[index*self.batch_size : (index+1)*self.batch_size]\n",
    "        #print()\n",
    "        inp_batch_embeddings = [] #np.zeros(shape = (self.batch_size, max_symptoms_count, 300))\n",
    "        for symptoms_of_1_disease in inp_batch:\n",
    "          random.shuffle(symptoms_of_1_disease)\n",
    "          symptoms_embedding = np.zeros((len(symptoms_of_1_disease), 300))\n",
    "          j = 0\n",
    "          for individual_symptom in symptoms_of_1_disease:\n",
    "            individual_symptom_embedding = np.zeros(300)\n",
    "            for word in individual_symptom:\n",
    "              word_embedding = embeddings_index.get(word)\n",
    "              if word_embedding is not None:\n",
    "                self.hits += 1\n",
    "                individual_symptom_embedding += word_embedding\n",
    "              else:\n",
    "                self.misses += 1\n",
    "            symptoms_embedding[j] = individual_symptom_embedding #new code add padding using DataGen later\n",
    "            j = j + 1\n",
    "          symptoms_embedding = np.pad(symptoms_embedding, [((max_symptoms_count - symptoms_embedding.shape[0]), 0), (0, 0)], mode='constant', constant_values=0)\n",
    "          inp_batch_embeddings.append(symptoms_embedding)\n",
    "        \n",
    "        inp_batch_embeddings = np.array(inp_batch_embeddings)\n",
    "\n",
    "        out_batch = self.output[index*self.batch_size : (index+1)*self.batch_size]\n",
    "     \n",
    "        return inp_batch_embeddings, out_batch\n",
    "    \n",
    "    def on_epoch_end(self):\n",
    "        pass\n",
    "    \n",
    "    def __len__(self):\n",
    "        return int(np.ceil(len(self.docs_x)/float(self.batch_size)))"
   ]
  },
  {
   "cell_type": "code",
   "execution_count": 18,
   "metadata": {
    "colab": {
     "base_uri": "https://localhost:8080/"
    },
    "id": "1_Oj7Zrv25Eq",
    "outputId": "83d6d594-5489-49c3-e4ab-417d892f9b80"
   },
   "outputs": [
    {
     "name": "stdout",
     "output_type": "stream",
     "text": [
      "[15  4 16  9 14 33  1 12 17  6 23 30  7 32 28 29  8 11 37 40 19 20 21 22\n",
      "  3 36 10 34 13 18 39 26 24 25 31  5  0  2 38 35 27]\n"
     ]
    }
   ],
   "source": [
    "#label encoding y axis\n",
    "\n",
    "from sklearn import preprocessing\n",
    "\n",
    "label_encoder = preprocessing.LabelEncoder()  \n",
    "y =  label_encoder.fit_transform(docs_y)\n",
    "y= np.asarray(y)\n",
    "print(y)"
   ]
  },
  {
   "cell_type": "code",
   "execution_count": 15,
   "metadata": {
    "id": "EvLpA0EkwrkO"
   },
   "outputs": [],
   "source": [
    "# from keras.models import *\n",
    "# from keras.layers import *\n",
    "\n",
    "# def define_model():\n",
    "#     input1 = Input(shape=(max_symptoms_count,300)) \n",
    "#     lstm1 = Bidirectional(LSTM(units=128))(input1)\n",
    "#     dnn_hidden_layer1 = Dense(64, activation='relu')(lstm1) \n",
    "#     dnn_output = Dense(41, activation='softmax')(dnn_hidden_layer1)\n",
    "#     model = Model(inputs=[input1],outputs=[dnn_output])\n",
    "#     # compile the model\n",
    "#     model.compile(loss='sparse_categorical_crossentropy', optimizer='adam', metrics=['accuracy'])\n",
    "#     model.summary()\n",
    "#     return model\n",
    "# model = define_model()"
   ]
  },
  {
   "cell_type": "code",
   "execution_count": 19,
   "metadata": {
    "colab": {
     "base_uri": "https://localhost:8080/"
    },
    "id": "WGJAITV1KPk7",
    "outputId": "b7a7d938-831f-4eaa-b2ae-904792cc3bf4"
   },
   "outputs": [
    {
     "name": "stdout",
     "output_type": "stream",
     "text": [
      "Model: \"model\"\n",
      "_________________________________________________________________\n",
      " Layer (type)                Output Shape              Param #   \n",
      "=================================================================\n",
      " input_1 (InputLayer)        [(None, 17, 300)]         0         \n",
      "                                                                 \n",
      " lstm (LSTM)                 (None, 17, 256)           570368    \n",
      "                                                                 \n",
      " attention (attention)       (None, 256)               273       \n",
      "                                                                 \n",
      " dense (Dense)               (None, 41)                10537     \n",
      "                                                                 \n",
      "=================================================================\n",
      "Total params: 581,178\n",
      "Trainable params: 581,178\n",
      "Non-trainable params: 0\n",
      "_________________________________________________________________\n"
     ]
    }
   ],
   "source": [
    "#Add attention layer to the deep learning network\n",
    "from pandas import read_csv\n",
    "import numpy as np\n",
    "from keras import Model\n",
    "from keras.layers import Layer\n",
    "import keras.backend as K\n",
    "from keras.layers import Input, Dense, SimpleRNN,LSTM\n",
    "from sklearn.preprocessing import MinMaxScaler\n",
    "from keras.models import Sequential\n",
    "from keras.metrics import mean_squared_error\n",
    "\n",
    "class attention(Layer):\n",
    "    def __init__(self,**kwargs):\n",
    "        super(attention,self).__init__(**kwargs)\n",
    " \n",
    "    def build(self,input_shape):\n",
    "        self.W=self.add_weight(name='attention_weight', shape=(input_shape[-1],1), \n",
    "                               initializer='random_normal', trainable=True)\n",
    "        self.b=self.add_weight(name='attention_bias', shape=(input_shape[1],1), \n",
    "                               initializer='zeros', trainable=True)        \n",
    "        super(attention, self).build(input_shape)\n",
    " \n",
    "    def call(self,x):\n",
    "        # Alignment scores. Pass them through tanh function\n",
    "        e = K.tanh(K.dot(x,self.W)+self.b)\n",
    "        # Remove dimension of size 1\n",
    "        e = K.squeeze(e, axis=-1)   \n",
    "        # Compute the weights\n",
    "        alpha = K.softmax(e)\n",
    "        # Reshape to tensorFlow format\n",
    "        alpha = K.expand_dims(alpha, axis=-1)\n",
    "        # Compute the context vector\n",
    "        context = x * alpha\n",
    "        context = K.sum(context, axis=1)\n",
    "        return context\n",
    "def create_RNN_with_attention(hidden_units, dense_units, input_shape, activation):\n",
    "    x=Input(shape=input_shape)\n",
    "    RNN_layer = SimpleRNN(hidden_units, return_sequences=True, activation=activation)(x)\n",
    "    attention_layer = attention()(RNN_layer)\n",
    "    outputs=Dense(dense_units, trainable=True, activation=activation)(attention_layer)\n",
    "    model=Model(x,outputs)\n",
    "    model.compile(loss='sparse_categorical_crossentropy', optimizer='adam',metrics=['accuracy'])    \n",
    "    return model    \n",
    "def create_LSTM_with_attention(hidden_units, dense_units, input_shape, activation):\n",
    "    x=Input(shape=input_shape)\n",
    "    LSTM_layer = LSTM(hidden_units, return_sequences=True, activation='relu')(x)\n",
    "    attention_layer = attention()(LSTM_layer)\n",
    "    outputs=Dense(dense_units, trainable=True, activation=activation)(attention_layer)\n",
    "    model=Model(x,outputs)\n",
    "    model.compile(loss='sparse_categorical_crossentropy', optimizer='adam',metrics=['accuracy'])    \n",
    "    return model    \n",
    " \n",
    "model = create_LSTM_with_attention(hidden_units=256, dense_units=41, input_shape=(max_symptoms_count,300), activation='softmax')\n",
    "model.summary()"
   ]
  },
  {
   "cell_type": "code",
   "execution_count": 20,
   "metadata": {
    "colab": {
     "base_uri": "https://localhost:8080/"
    },
    "id": "7IUijVcP1vE-",
    "outputId": "490c77df-4a8e-4d40-b00a-330ab3a3c300"
   },
   "outputs": [
    {
     "name": "stdout",
     "output_type": "stream",
     "text": [
      "Epoch 1/200\n",
      "5/5 [==============================] - 2s 28ms/step - loss: 3.7151 - accuracy: 0.0000e+00\n",
      "Epoch 2/200\n",
      "5/5 [==============================] - 0s 24ms/step - loss: 3.7971 - accuracy: 0.0000e+00\n",
      "Epoch 3/200\n",
      "5/5 [==============================] - 0s 32ms/step - loss: 3.7166 - accuracy: 0.2000\n",
      "Epoch 4/200\n",
      "5/5 [==============================] - 0s 25ms/step - loss: 3.5750 - accuracy: 0.2000\n",
      "Epoch 5/200\n",
      "5/5 [==============================] - 0s 27ms/step - loss: 3.6428 - accuracy: 0.0000e+00\n",
      "Epoch 6/200\n",
      "5/5 [==============================] - 0s 32ms/step - loss: 3.6651 - accuracy: 0.2000\n",
      "Epoch 7/200\n",
      "5/5 [==============================] - 0s 30ms/step - loss: 3.5060 - accuracy: 0.0000e+00\n",
      "Epoch 8/200\n",
      "5/5 [==============================] - 0s 31ms/step - loss: 3.3011 - accuracy: 0.0000e+00\n",
      "Epoch 9/200\n",
      "5/5 [==============================] - 0s 34ms/step - loss: 3.3476 - accuracy: 0.4000\n",
      "Epoch 10/200\n",
      "5/5 [==============================] - 0s 25ms/step - loss: 3.0775 - accuracy: 0.2000\n",
      "Epoch 11/200\n",
      "5/5 [==============================] - 0s 29ms/step - loss: 10.7979 - accuracy: 0.0000e+00\n",
      "Epoch 12/200\n",
      "5/5 [==============================] - 0s 27ms/step - loss: 6.0244 - accuracy: 0.0000e+00\n",
      "Epoch 13/200\n",
      "5/5 [==============================] - 0s 28ms/step - loss: 3.5488 - accuracy: 0.2000\n",
      "Epoch 14/200\n",
      "5/5 [==============================] - 0s 28ms/step - loss: 3.8217 - accuracy: 0.2000\n",
      "Epoch 15/200\n",
      "5/5 [==============================] - 0s 30ms/step - loss: 3.6333 - accuracy: 0.0000e+00\n",
      "Epoch 16/200\n",
      "5/5 [==============================] - 0s 41ms/step - loss: 3.5677 - accuracy: 0.2000\n",
      "Epoch 17/200\n",
      "5/5 [==============================] - 0s 33ms/step - loss: 3.5204 - accuracy: 0.2000\n",
      "Epoch 18/200\n",
      "5/5 [==============================] - 0s 33ms/step - loss: 3.6756 - accuracy: 0.2000\n",
      "Epoch 19/200\n",
      "5/5 [==============================] - 0s 26ms/step - loss: 3.5734 - accuracy: 0.2000\n",
      "Epoch 20/200\n",
      "5/5 [==============================] - 0s 28ms/step - loss: 3.8502 - accuracy: 0.2000\n",
      "Epoch 21/200\n",
      "5/5 [==============================] - 0s 29ms/step - loss: 3.2094 - accuracy: 0.4000\n",
      "Epoch 22/200\n",
      "5/5 [==============================] - 0s 33ms/step - loss: 3.5005 - accuracy: 0.2000\n",
      "Epoch 23/200\n",
      "5/5 [==============================] - 0s 25ms/step - loss: 3.4415 - accuracy: 0.0000e+00\n",
      "Epoch 24/200\n",
      "5/5 [==============================] - 0s 27ms/step - loss: 3.0843 - accuracy: 0.6000\n",
      "Epoch 25/200\n",
      "5/5 [==============================] - 0s 31ms/step - loss: 3.2772 - accuracy: 0.4000\n",
      "Epoch 26/200\n",
      "5/5 [==============================] - 0s 31ms/step - loss: 3.3932 - accuracy: 0.2000\n",
      "Epoch 27/200\n",
      "5/5 [==============================] - 0s 28ms/step - loss: 2.5992 - accuracy: 0.6000\n",
      "Epoch 28/200\n",
      "5/5 [==============================] - 0s 33ms/step - loss: 3.0566 - accuracy: 0.2000\n",
      "Epoch 29/200\n",
      "5/5 [==============================] - 0s 25ms/step - loss: 3.0646 - accuracy: 0.2000\n",
      "Epoch 30/200\n",
      "5/5 [==============================] - 0s 29ms/step - loss: 3.6827 - accuracy: 0.2000\n",
      "Epoch 31/200\n",
      "5/5 [==============================] - 0s 27ms/step - loss: 3.3302 - accuracy: 0.2000\n",
      "Epoch 32/200\n",
      "5/5 [==============================] - 0s 29ms/step - loss: 3.2559 - accuracy: 0.4000\n",
      "Epoch 33/200\n",
      "5/5 [==============================] - 0s 28ms/step - loss: 3.0504 - accuracy: 0.4000\n",
      "Epoch 34/200\n",
      "5/5 [==============================] - 0s 30ms/step - loss: 3.6226 - accuracy: 0.0000e+00\n",
      "Epoch 35/200\n",
      "5/5 [==============================] - 0s 27ms/step - loss: 3.6739 - accuracy: 0.2000\n",
      "Epoch 36/200\n",
      "5/5 [==============================] - 0s 25ms/step - loss: 3.0476 - accuracy: 0.2000\n",
      "Epoch 37/200\n",
      "5/5 [==============================] - 0s 28ms/step - loss: 2.7020 - accuracy: 0.4000\n",
      "Epoch 38/200\n",
      "5/5 [==============================] - 0s 26ms/step - loss: 2.3248 - accuracy: 0.4000\n",
      "Epoch 39/200\n",
      "5/5 [==============================] - 0s 29ms/step - loss: 2.9247 - accuracy: 0.8000\n",
      "Epoch 40/200\n",
      "5/5 [==============================] - 0s 31ms/step - loss: 2.1963 - accuracy: 0.6000\n",
      "Epoch 41/200\n",
      "5/5 [==============================] - 0s 31ms/step - loss: 3.0500 - accuracy: 0.4000\n",
      "Epoch 42/200\n",
      "5/5 [==============================] - 0s 25ms/step - loss: 1.7707 - accuracy: 0.8000\n",
      "Epoch 43/200\n",
      "5/5 [==============================] - 0s 27ms/step - loss: 3.7532 - accuracy: 0.0000e+00\n",
      "Epoch 44/200\n",
      "5/5 [==============================] - 0s 28ms/step - loss: 2.6149 - accuracy: 0.4000\n",
      "Epoch 45/200\n",
      "5/5 [==============================] - 0s 28ms/step - loss: 2.2868 - accuracy: 0.4000\n",
      "Epoch 46/200\n",
      "5/5 [==============================] - 0s 25ms/step - loss: 3.1799 - accuracy: 0.6000\n",
      "Epoch 47/200\n",
      "5/5 [==============================] - 0s 28ms/step - loss: 2.8427 - accuracy: 0.6000\n",
      "Epoch 48/200\n",
      "5/5 [==============================] - 0s 28ms/step - loss: 2.7341 - accuracy: 0.4000\n",
      "Epoch 49/200\n",
      "5/5 [==============================] - 0s 29ms/step - loss: 1.7140 - accuracy: 1.0000\n",
      "Epoch 50/200\n",
      "5/5 [==============================] - 0s 29ms/step - loss: 2.4194 - accuracy: 0.4000\n",
      "Epoch 51/200\n",
      "5/5 [==============================] - 0s 27ms/step - loss: 2.3396 - accuracy: 0.4000\n",
      "Epoch 52/200\n",
      "5/5 [==============================] - 0s 31ms/step - loss: 1.4388 - accuracy: 0.8000\n",
      "Epoch 53/200\n",
      "5/5 [==============================] - 0s 28ms/step - loss: 1.8604 - accuracy: 0.8000\n",
      "Epoch 54/200\n",
      "5/5 [==============================] - 0s 28ms/step - loss: 2.4538 - accuracy: 0.4000\n",
      "Epoch 55/200\n",
      "5/5 [==============================] - 0s 28ms/step - loss: 1.7821 - accuracy: 0.6000\n",
      "Epoch 56/200\n",
      "5/5 [==============================] - 0s 32ms/step - loss: 1.6724 - accuracy: 0.6000\n",
      "Epoch 57/200\n",
      "5/5 [==============================] - 0s 29ms/step - loss: 2.6526 - accuracy: 0.6000\n",
      "Epoch 58/200\n",
      "5/5 [==============================] - 0s 27ms/step - loss: 6.0973 - accuracy: 0.2000\n",
      "Epoch 59/200\n",
      "5/5 [==============================] - 0s 28ms/step - loss: 2.1889 - accuracy: 0.6000\n",
      "Epoch 60/200\n",
      "5/5 [==============================] - 0s 33ms/step - loss: 2.2982 - accuracy: 0.6000\n",
      "Epoch 61/200\n",
      "5/5 [==============================] - 0s 25ms/step - loss: 3.0396 - accuracy: 0.6000\n",
      "Epoch 62/200\n",
      "5/5 [==============================] - 0s 27ms/step - loss: 2.3104 - accuracy: 0.4000\n",
      "Epoch 63/200\n",
      "5/5 [==============================] - 0s 28ms/step - loss: 2.4452 - accuracy: 0.4000\n",
      "Epoch 64/200\n",
      "5/5 [==============================] - 0s 32ms/step - loss: 2.3212 - accuracy: 0.6000\n",
      "Epoch 65/200\n",
      "5/5 [==============================] - 0s 31ms/step - loss: 1.8652 - accuracy: 0.6000\n",
      "Epoch 66/200\n",
      "5/5 [==============================] - 0s 31ms/step - loss: 1.1735 - accuracy: 0.8000\n",
      "Epoch 67/200\n",
      "5/5 [==============================] - 0s 26ms/step - loss: 0.6393 - accuracy: 1.0000\n",
      "Epoch 68/200\n",
      "5/5 [==============================] - 0s 27ms/step - loss: 1.7672 - accuracy: 0.6000\n",
      "Epoch 69/200\n",
      "5/5 [==============================] - 0s 28ms/step - loss: 1.9334 - accuracy: 0.8000\n",
      "Epoch 70/200\n",
      "5/5 [==============================] - 0s 31ms/step - loss: 1.6927 - accuracy: 0.6000\n",
      "Epoch 71/200\n",
      "5/5 [==============================] - 0s 31ms/step - loss: 2.2093 - accuracy: 0.4000\n",
      "Epoch 72/200\n",
      "5/5 [==============================] - 0s 30ms/step - loss: 0.8154 - accuracy: 0.8000\n",
      "Epoch 73/200\n",
      "5/5 [==============================] - 0s 29ms/step - loss: 2.7043 - accuracy: 0.4000\n",
      "Epoch 74/200\n",
      "5/5 [==============================] - 0s 27ms/step - loss: 2.1673 - accuracy: 0.8000\n",
      "Epoch 75/200\n",
      "5/5 [==============================] - 0s 26ms/step - loss: 0.4642 - accuracy: 1.0000\n",
      "Epoch 76/200\n",
      "5/5 [==============================] - 0s 25ms/step - loss: 0.4758 - accuracy: 1.0000\n",
      "Epoch 77/200\n",
      "5/5 [==============================] - 0s 28ms/step - loss: 1.0088 - accuracy: 0.8000\n",
      "Epoch 78/200\n",
      "5/5 [==============================] - 0s 30ms/step - loss: 1.6996 - accuracy: 0.6000\n",
      "Epoch 79/200\n",
      "5/5 [==============================] - 0s 26ms/step - loss: 1.0270 - accuracy: 0.8000\n",
      "Epoch 80/200\n",
      "5/5 [==============================] - 0s 30ms/step - loss: 1.1481 - accuracy: 0.8000\n",
      "Epoch 81/200\n",
      "5/5 [==============================] - 0s 30ms/step - loss: 1.2743 - accuracy: 0.8000\n",
      "Epoch 82/200\n",
      "5/5 [==============================] - 0s 33ms/step - loss: 1.0556 - accuracy: 1.0000\n",
      "Epoch 83/200\n"
     ]
    },
    {
     "name": "stdout",
     "output_type": "stream",
     "text": [
      "5/5 [==============================] - 0s 32ms/step - loss: 2.2589 - accuracy: 0.8000\n",
      "Epoch 84/200\n",
      "5/5 [==============================] - 0s 31ms/step - loss: 1.4315 - accuracy: 0.8000\n",
      "Epoch 85/200\n",
      "5/5 [==============================] - 0s 30ms/step - loss: 2.6385 - accuracy: 0.8000\n",
      "Epoch 86/200\n",
      "5/5 [==============================] - 0s 38ms/step - loss: 0.6688 - accuracy: 0.8000\n",
      "Epoch 87/200\n",
      "5/5 [==============================] - 0s 32ms/step - loss: 1.4093 - accuracy: 1.0000\n",
      "Epoch 88/200\n",
      "5/5 [==============================] - 0s 31ms/step - loss: 1.2950 - accuracy: 0.8000\n",
      "Epoch 89/200\n",
      "5/5 [==============================] - 0s 26ms/step - loss: 0.4042 - accuracy: 1.0000\n",
      "Epoch 90/200\n",
      "5/5 [==============================] - 0s 33ms/step - loss: 1.3972 - accuracy: 0.8000\n",
      "Epoch 91/200\n",
      "5/5 [==============================] - 0s 30ms/step - loss: 2.0334 - accuracy: 0.6000\n",
      "Epoch 92/200\n",
      "5/5 [==============================] - 0s 33ms/step - loss: 1.0815 - accuracy: 0.6000\n",
      "Epoch 93/200\n",
      "5/5 [==============================] - 0s 23ms/step - loss: 0.4122 - accuracy: 1.0000\n",
      "Epoch 94/200\n",
      "5/5 [==============================] - 0s 28ms/step - loss: 1.2745 - accuracy: 0.8000\n",
      "Epoch 95/200\n",
      "5/5 [==============================] - 0s 28ms/step - loss: 1.3623 - accuracy: 0.8000\n",
      "Epoch 96/200\n",
      "5/5 [==============================] - 0s 28ms/step - loss: 0.3513 - accuracy: 1.0000\n",
      "Epoch 97/200\n",
      "5/5 [==============================] - 0s 29ms/step - loss: 2.0503 - accuracy: 0.4000\n",
      "Epoch 98/200\n",
      "5/5 [==============================] - 0s 32ms/step - loss: 0.3511 - accuracy: 1.0000\n",
      "Epoch 99/200\n",
      "5/5 [==============================] - 0s 30ms/step - loss: 0.2833 - accuracy: 1.0000\n",
      "Epoch 100/200\n",
      "5/5 [==============================] - 0s 24ms/step - loss: 0.6970 - accuracy: 1.0000\n",
      "Epoch 101/200\n",
      "5/5 [==============================] - 0s 26ms/step - loss: 0.5206 - accuracy: 1.0000\n",
      "Epoch 102/200\n",
      "5/5 [==============================] - 0s 28ms/step - loss: 0.1666 - accuracy: 1.0000\n",
      "Epoch 103/200\n",
      "5/5 [==============================] - 0s 30ms/step - loss: 1.7919 - accuracy: 0.8000\n",
      "Epoch 104/200\n",
      "5/5 [==============================] - 0s 29ms/step - loss: 1.0080 - accuracy: 0.8000\n",
      "Epoch 105/200\n",
      "5/5 [==============================] - 0s 29ms/step - loss: 0.0872 - accuracy: 1.0000\n",
      "Epoch 106/200\n",
      "5/5 [==============================] - 0s 22ms/step - loss: 0.7106 - accuracy: 0.8000\n",
      "Epoch 107/200\n",
      "5/5 [==============================] - 0s 27ms/step - loss: 0.0879 - accuracy: 1.0000\n",
      "Epoch 108/200\n",
      "5/5 [==============================] - 0s 26ms/step - loss: 0.1216 - accuracy: 1.0000\n",
      "Epoch 109/200\n",
      "5/5 [==============================] - 0s 28ms/step - loss: 1.1336 - accuracy: 1.0000\n",
      "Epoch 110/200\n",
      "5/5 [==============================] - 0s 27ms/step - loss: 0.5464 - accuracy: 1.0000\n",
      "Epoch 111/200\n",
      "5/5 [==============================] - 0s 29ms/step - loss: 0.4165 - accuracy: 0.8000\n",
      "Epoch 112/200\n",
      "5/5 [==============================] - 0s 26ms/step - loss: 0.7035 - accuracy: 1.0000\n",
      "Epoch 113/200\n",
      "5/5 [==============================] - 0s 28ms/step - loss: 0.1771 - accuracy: 1.0000\n",
      "Epoch 114/200\n",
      "5/5 [==============================] - 0s 27ms/step - loss: 0.2437 - accuracy: 1.0000\n",
      "Epoch 115/200\n",
      "5/5 [==============================] - 0s 28ms/step - loss: 0.2661 - accuracy: 1.0000\n",
      "Epoch 116/200\n",
      "5/5 [==============================] - 0s 28ms/step - loss: 0.0793 - accuracy: 1.0000\n",
      "Epoch 117/200\n",
      "5/5 [==============================] - 0s 28ms/step - loss: 0.4365 - accuracy: 1.0000\n",
      "Epoch 118/200\n",
      "5/5 [==============================] - 0s 28ms/step - loss: 0.8025 - accuracy: 0.8000\n",
      "Epoch 119/200\n",
      "5/5 [==============================] - 0s 25ms/step - loss: 0.1323 - accuracy: 1.0000\n",
      "Epoch 120/200\n",
      "5/5 [==============================] - 0s 31ms/step - loss: 0.4179 - accuracy: 0.8000\n",
      "Epoch 121/200\n",
      "5/5 [==============================] - 0s 30ms/step - loss: 1.1827 - accuracy: 0.8000\n",
      "Epoch 122/200\n",
      "5/5 [==============================] - 0s 31ms/step - loss: 0.4364 - accuracy: 1.0000\n",
      "Epoch 123/200\n",
      "5/5 [==============================] - 0s 27ms/step - loss: 0.8640 - accuracy: 1.0000\n",
      "Epoch 124/200\n",
      "5/5 [==============================] - 0s 34ms/step - loss: 0.1999 - accuracy: 1.0000\n",
      "Epoch 125/200\n",
      "5/5 [==============================] - 0s 35ms/step - loss: 0.6945 - accuracy: 0.8000\n",
      "Epoch 126/200\n",
      "5/5 [==============================] - 0s 26ms/step - loss: 0.3805 - accuracy: 1.0000\n",
      "Epoch 127/200\n",
      "5/5 [==============================] - 0s 28ms/step - loss: 0.5138 - accuracy: 0.6000\n",
      "Epoch 128/200\n",
      "5/5 [==============================] - 0s 29ms/step - loss: 0.0895 - accuracy: 1.0000\n",
      "Epoch 129/200\n",
      "5/5 [==============================] - 0s 28ms/step - loss: 4.1236e-04 - accuracy: 1.0000\n",
      "Epoch 130/200\n",
      "5/5 [==============================] - 0s 29ms/step - loss: 6.3522 - accuracy: 0.6000\n",
      "Epoch 131/200\n",
      "5/5 [==============================] - 0s 32ms/step - loss: 0.6697 - accuracy: 1.0000\n",
      "Epoch 132/200\n",
      "5/5 [==============================] - 0s 28ms/step - loss: 2.7031 - accuracy: 0.8000\n",
      "Epoch 133/200\n",
      "5/5 [==============================] - 0s 28ms/step - loss: 0.5654 - accuracy: 0.8000\n",
      "Epoch 134/200\n",
      "5/5 [==============================] - 0s 28ms/step - loss: 0.4874 - accuracy: 0.8000\n",
      "Epoch 135/200\n",
      "5/5 [==============================] - 0s 28ms/step - loss: 0.8692 - accuracy: 0.8000\n",
      "Epoch 136/200\n",
      "5/5 [==============================] - 0s 30ms/step - loss: 1.2541 - accuracy: 1.0000\n",
      "Epoch 137/200\n",
      "5/5 [==============================] - 0s 28ms/step - loss: 1.0056 - accuracy: 1.0000\n",
      "Epoch 138/200\n",
      "5/5 [==============================] - 0s 30ms/step - loss: 0.4785 - accuracy: 1.0000\n",
      "Epoch 139/200\n",
      "5/5 [==============================] - 0s 25ms/step - loss: 0.4695 - accuracy: 1.0000\n",
      "Epoch 140/200\n",
      "5/5 [==============================] - 0s 28ms/step - loss: 0.9830 - accuracy: 0.8000\n",
      "Epoch 141/200\n",
      "5/5 [==============================] - 0s 26ms/step - loss: 0.7368 - accuracy: 1.0000\n",
      "Epoch 142/200\n",
      "5/5 [==============================] - 0s 27ms/step - loss: 0.0915 - accuracy: 1.0000\n",
      "Epoch 143/200\n",
      "5/5 [==============================] - 0s 27ms/step - loss: 0.6107 - accuracy: 0.8000\n",
      "Epoch 144/200\n",
      "5/5 [==============================] - 0s 32ms/step - loss: 0.1184 - accuracy: 1.0000\n",
      "Epoch 145/200\n",
      "5/5 [==============================] - 0s 27ms/step - loss: 0.4132 - accuracy: 0.8000\n",
      "Epoch 146/200\n",
      "5/5 [==============================] - 0s 30ms/step - loss: 0.0039 - accuracy: 1.0000\n",
      "Epoch 147/200\n",
      "5/5 [==============================] - 0s 29ms/step - loss: 0.2332 - accuracy: 1.0000\n",
      "Epoch 148/200\n",
      "5/5 [==============================] - 0s 29ms/step - loss: 0.3621 - accuracy: 1.0000\n",
      "Epoch 149/200\n",
      "5/5 [==============================] - 0s 29ms/step - loss: 0.4188 - accuracy: 1.0000\n",
      "Epoch 150/200\n",
      "5/5 [==============================] - 0s 28ms/step - loss: 0.1832 - accuracy: 1.0000\n",
      "Epoch 151/200\n",
      "5/5 [==============================] - 0s 29ms/step - loss: 0.7712 - accuracy: 0.8000\n",
      "Epoch 152/200\n",
      "5/5 [==============================] - 0s 29ms/step - loss: 0.0248 - accuracy: 1.0000\n",
      "Epoch 153/200\n",
      "5/5 [==============================] - 0s 27ms/step - loss: 0.0824 - accuracy: 1.0000\n",
      "Epoch 154/200\n",
      "5/5 [==============================] - 0s 25ms/step - loss: 0.0198 - accuracy: 1.0000\n",
      "Epoch 155/200\n",
      "5/5 [==============================] - 0s 25ms/step - loss: 0.0466 - accuracy: 1.0000\n",
      "Epoch 156/200\n",
      "5/5 [==============================] - 0s 27ms/step - loss: 0.4230 - accuracy: 0.8000\n",
      "Epoch 157/200\n",
      "5/5 [==============================] - 0s 31ms/step - loss: 0.0760 - accuracy: 1.0000\n",
      "Epoch 158/200\n",
      "5/5 [==============================] - 0s 32ms/step - loss: 0.0368 - accuracy: 1.0000\n",
      "Epoch 159/200\n",
      "5/5 [==============================] - 0s 25ms/step - loss: 0.5234 - accuracy: 0.8000\n",
      "Epoch 160/200\n",
      "5/5 [==============================] - 0s 28ms/step - loss: 0.0278 - accuracy: 1.0000\n",
      "Epoch 161/200\n",
      "5/5 [==============================] - 0s 27ms/step - loss: 1.4591 - accuracy: 0.4000\n",
      "Epoch 162/200\n",
      "5/5 [==============================] - 0s 27ms/step - loss: 0.1661 - accuracy: 1.0000\n",
      "Epoch 163/200\n",
      "5/5 [==============================] - 0s 30ms/step - loss: 0.1050 - accuracy: 1.0000\n",
      "Epoch 164/200\n",
      "5/5 [==============================] - 0s 29ms/step - loss: 0.7308 - accuracy: 1.0000\n",
      "Epoch 165/200\n"
     ]
    },
    {
     "name": "stdout",
     "output_type": "stream",
     "text": [
      "5/5 [==============================] - 0s 24ms/step - loss: 56.2560 - accuracy: 0.8000\n",
      "Epoch 166/200\n",
      "5/5 [==============================] - 0s 24ms/step - loss: 2.4645 - accuracy: 0.6000\n",
      "Epoch 167/200\n",
      "5/5 [==============================] - 0s 29ms/step - loss: 1.1331 - accuracy: 0.6000\n",
      "Epoch 168/200\n",
      "5/5 [==============================] - 0s 23ms/step - loss: 0.9704 - accuracy: 0.8000\n",
      "Epoch 169/200\n",
      "5/5 [==============================] - 0s 24ms/step - loss: 0.8080 - accuracy: 0.8000\n",
      "Epoch 170/200\n",
      "5/5 [==============================] - 0s 24ms/step - loss: 1.5518 - accuracy: 0.6000\n",
      "Epoch 171/200\n",
      "5/5 [==============================] - 0s 28ms/step - loss: 1.6078 - accuracy: 0.0000e+00\n",
      "Epoch 172/200\n",
      "5/5 [==============================] - 0s 24ms/step - loss: 0.1272 - accuracy: 1.0000\n",
      "Epoch 173/200\n",
      "5/5 [==============================] - 0s 26ms/step - loss: 0.2253 - accuracy: 0.8000\n",
      "Epoch 174/200\n",
      "5/5 [==============================] - 0s 28ms/step - loss: 1.1121 - accuracy: 0.8000\n",
      "Epoch 175/200\n",
      "5/5 [==============================] - 0s 30ms/step - loss: 0.5106 - accuracy: 0.8000\n",
      "Epoch 176/200\n",
      "5/5 [==============================] - 0s 30ms/step - loss: 0.1666 - accuracy: 1.0000\n",
      "Epoch 177/200\n",
      "5/5 [==============================] - 0s 29ms/step - loss: 0.1908 - accuracy: 1.0000\n",
      "Epoch 178/200\n",
      "5/5 [==============================] - 0s 27ms/step - loss: 45.4780 - accuracy: 0.8000\n",
      "Epoch 179/200\n",
      "5/5 [==============================] - 0s 28ms/step - loss: 1.3529 - accuracy: 0.8000\n",
      "Epoch 180/200\n",
      "5/5 [==============================] - 0s 29ms/step - loss: 0.0496 - accuracy: 1.0000\n",
      "Epoch 181/200\n",
      "5/5 [==============================] - 0s 28ms/step - loss: 1.1629 - accuracy: 1.0000\n",
      "Epoch 182/200\n",
      "5/5 [==============================] - 0s 28ms/step - loss: 3.9161 - accuracy: 0.8000\n",
      "Epoch 183/200\n",
      "5/5 [==============================] - 0s 30ms/step - loss: 0.7827 - accuracy: 1.0000\n",
      "Epoch 184/200\n",
      "5/5 [==============================] - 0s 32ms/step - loss: 0.2825 - accuracy: 1.0000\n",
      "Epoch 185/200\n",
      "5/5 [==============================] - 0s 27ms/step - loss: 0.8160 - accuracy: 0.8000\n",
      "Epoch 186/200\n",
      "5/5 [==============================] - 0s 27ms/step - loss: 0.6883 - accuracy: 1.0000\n",
      "Epoch 187/200\n",
      "5/5 [==============================] - 0s 28ms/step - loss: 0.9503 - accuracy: 0.8000\n",
      "Epoch 188/200\n",
      "5/5 [==============================] - 0s 26ms/step - loss: 0.6455 - accuracy: 1.0000\n",
      "Epoch 189/200\n",
      "5/5 [==============================] - 0s 29ms/step - loss: 0.4200 - accuracy: 1.0000\n",
      "Epoch 190/200\n",
      "5/5 [==============================] - 0s 27ms/step - loss: 0.4182 - accuracy: 0.8000\n",
      "Epoch 191/200\n",
      "5/5 [==============================] - 0s 37ms/step - loss: 0.3822 - accuracy: 1.0000\n",
      "Epoch 192/200\n",
      "5/5 [==============================] - 0s 27ms/step - loss: 0.0689 - accuracy: 1.0000\n",
      "Epoch 193/200\n",
      "5/5 [==============================] - 0s 29ms/step - loss: 0.6701 - accuracy: 0.8000\n",
      "Epoch 194/200\n",
      "5/5 [==============================] - 0s 29ms/step - loss: 0.0542 - accuracy: 1.0000\n",
      "Epoch 195/200\n",
      "5/5 [==============================] - 0s 26ms/step - loss: 0.4520 - accuracy: 0.8000\n",
      "Epoch 196/200\n",
      "5/5 [==============================] - 0s 24ms/step - loss: 0.4116 - accuracy: 0.8000\n",
      "Epoch 197/200\n",
      "5/5 [==============================] - 0s 30ms/step - loss: 0.8385 - accuracy: 0.8000\n",
      "Epoch 198/200\n",
      "5/5 [==============================] - 0s 27ms/step - loss: 0.3415 - accuracy: 1.0000\n",
      "Epoch 199/200\n",
      "5/5 [==============================] - 0s 27ms/step - loss: 0.6836 - accuracy: 0.8000\n",
      "Epoch 200/200\n",
      "5/5 [==============================] - 0s 29ms/step - loss: 0.6894 - accuracy: 0.8000\n"
     ]
    }
   ],
   "source": [
    "batch_size = 8\n",
    "train_gen = DataGen(\n",
    "    docs_x,\n",
    "    y,\n",
    "    batch_size,\n",
    "    )\n",
    "\n",
    "train_steps = len(docs_x)//batch_size\n",
    "\n",
    "history = model.fit(\n",
    "    train_gen,\n",
    "    steps_per_epoch=train_steps,\n",
    "    epochs=200,\n",
    "    verbose=1)"
   ]
  },
  {
   "cell_type": "code",
   "execution_count": 21,
   "metadata": {
    "id": "B4aFKt9N176s"
   },
   "outputs": [],
   "source": [
    "def predict_from_list(symptoms_of_1_disease):\n",
    "  hits = 0\n",
    "  misses = 0\n",
    "  symptoms_embedding = np.zeros((max_symptoms_count-len(symptoms_of_1_disease), 300))\n",
    "  for individual_symptom in symptoms_of_1_disease:\n",
    "    individual_symptom_embedding = np.zeros(300)\n",
    "    words = [i for i in rt.tokenize(individual_symptom) if i not in stop]\n",
    "    print(words)\n",
    "    for word in words:\n",
    "      word_embedding = embeddings_index.get(word)\n",
    "      if word_embedding is not None:\n",
    "        hits += 1\n",
    "        individual_symptom_embedding += word_embedding\n",
    "      else:\n",
    "        misses += 1\n",
    "    symptoms_embedding = np.append(symptoms_embedding, [individual_symptom_embedding], axis = 0)\n",
    "  #print(symptoms_embedding.shape)\n",
    "  print(f\"Of total words in symptoms: hits = {hits}, misses = {misses}, ratio = {hits/(hits+misses)}\")\n",
    "  test_data = np.array([symptoms_embedding])\n",
    "  print(test_data.shape)\n",
    "  pred = model.predict(test_data)\n",
    "  pos = np.argmax(pred, axis=1)\n",
    "  return label_encoder.inverse_transform([pos[0]])[0]"
   ]
  },
  {
   "cell_type": "code",
   "execution_count": 22,
   "metadata": {
    "colab": {
     "base_uri": "https://localhost:8080/"
    },
    "id": "ixyQtjll3mzz",
    "outputId": "75b9da37-1401-49e8-8506-b0410bb7d0fd"
   },
   "outputs": [
    {
     "name": "stdout",
     "output_type": "stream",
     "text": [
      "Enter symptoms separated by space: \n",
      "['']\n",
      "[]\n"
     ]
    },
    {
     "ename": "ZeroDivisionError",
     "evalue": "division by zero",
     "output_type": "error",
     "traceback": [
      "\u001b[1;31m---------------------------------------------------------------------------\u001b[0m",
      "\u001b[1;31mZeroDivisionError\u001b[0m                         Traceback (most recent call last)",
      "\u001b[1;32m~\\AppData\\Local\\Temp\\ipykernel_33088\\2868828861.py\u001b[0m in \u001b[0;36m<module>\u001b[1;34m\u001b[0m\n\u001b[0;32m      3\u001b[0m \u001b[0mlis\u001b[0m \u001b[1;33m=\u001b[0m \u001b[1;33m[\u001b[0m\u001b[0mx\u001b[0m \u001b[1;32mfor\u001b[0m \u001b[0mx\u001b[0m \u001b[1;32min\u001b[0m \u001b[0minput\u001b[0m\u001b[1;33m(\u001b[0m\u001b[1;34m\"Enter symptoms separated by space: \"\u001b[0m\u001b[1;33m)\u001b[0m\u001b[1;33m.\u001b[0m\u001b[0msplit\u001b[0m\u001b[1;33m(\u001b[0m\u001b[1;34m\",\"\u001b[0m\u001b[1;33m)\u001b[0m\u001b[1;33m]\u001b[0m\u001b[1;33m\u001b[0m\u001b[1;33m\u001b[0m\u001b[0m\n\u001b[0;32m      4\u001b[0m \u001b[0mprint\u001b[0m\u001b[1;33m(\u001b[0m\u001b[0mlis\u001b[0m\u001b[1;33m)\u001b[0m\u001b[1;33m\u001b[0m\u001b[1;33m\u001b[0m\u001b[0m\n\u001b[1;32m----> 5\u001b[1;33m \u001b[0mpredicted_disease\u001b[0m \u001b[1;33m=\u001b[0m \u001b[0mpredict_from_list\u001b[0m\u001b[1;33m(\u001b[0m\u001b[0mlis\u001b[0m\u001b[1;33m)\u001b[0m\u001b[1;33m\u001b[0m\u001b[1;33m\u001b[0m\u001b[0m\n\u001b[0m\u001b[0;32m      6\u001b[0m \u001b[0mprint\u001b[0m\u001b[1;33m(\u001b[0m\u001b[1;34mf\"\\n Predicted disease: {predicted_disease}\"\u001b[0m\u001b[1;33m)\u001b[0m\u001b[1;33m\u001b[0m\u001b[1;33m\u001b[0m\u001b[0m\n",
      "\u001b[1;32m~\\AppData\\Local\\Temp\\ipykernel_33088\\204639857.py\u001b[0m in \u001b[0;36mpredict_from_list\u001b[1;34m(symptoms_of_1_disease)\u001b[0m\n\u001b[0;32m     16\u001b[0m     \u001b[0msymptoms_embedding\u001b[0m \u001b[1;33m=\u001b[0m \u001b[0mnp\u001b[0m\u001b[1;33m.\u001b[0m\u001b[0mappend\u001b[0m\u001b[1;33m(\u001b[0m\u001b[0msymptoms_embedding\u001b[0m\u001b[1;33m,\u001b[0m \u001b[1;33m[\u001b[0m\u001b[0mindividual_symptom_embedding\u001b[0m\u001b[1;33m]\u001b[0m\u001b[1;33m,\u001b[0m \u001b[0maxis\u001b[0m \u001b[1;33m=\u001b[0m \u001b[1;36m0\u001b[0m\u001b[1;33m)\u001b[0m\u001b[1;33m\u001b[0m\u001b[1;33m\u001b[0m\u001b[0m\n\u001b[0;32m     17\u001b[0m   \u001b[1;31m#print(symptoms_embedding.shape)\u001b[0m\u001b[1;33m\u001b[0m\u001b[1;33m\u001b[0m\u001b[1;33m\u001b[0m\u001b[0m\n\u001b[1;32m---> 18\u001b[1;33m   \u001b[0mprint\u001b[0m\u001b[1;33m(\u001b[0m\u001b[1;34mf\"Of total words in symptoms: hits = {hits}, misses = {misses}, ratio = {hits/(hits+misses)}\"\u001b[0m\u001b[1;33m)\u001b[0m\u001b[1;33m\u001b[0m\u001b[1;33m\u001b[0m\u001b[0m\n\u001b[0m\u001b[0;32m     19\u001b[0m   \u001b[0mtest_data\u001b[0m \u001b[1;33m=\u001b[0m \u001b[0mnp\u001b[0m\u001b[1;33m.\u001b[0m\u001b[0marray\u001b[0m\u001b[1;33m(\u001b[0m\u001b[1;33m[\u001b[0m\u001b[0msymptoms_embedding\u001b[0m\u001b[1;33m]\u001b[0m\u001b[1;33m)\u001b[0m\u001b[1;33m\u001b[0m\u001b[1;33m\u001b[0m\u001b[0m\n\u001b[0;32m     20\u001b[0m   \u001b[0mprint\u001b[0m\u001b[1;33m(\u001b[0m\u001b[0mtest_data\u001b[0m\u001b[1;33m.\u001b[0m\u001b[0mshape\u001b[0m\u001b[1;33m)\u001b[0m\u001b[1;33m\u001b[0m\u001b[1;33m\u001b[0m\u001b[0m\n",
      "\u001b[1;31mZeroDivisionError\u001b[0m: division by zero"
     ]
    }
   ],
   "source": [
    "#lis = [\"indigestion\", \"stiff_neck\", \"irritability\",\"headache\", \"acidity\"]\n",
    "\n",
    "lis = [x for x in input(\"Enter symptoms separated by space: \").split(\",\")]\n",
    "print(lis)\n",
    "predicted_disease = predict_from_list(lis)\n",
    "print(f\"\\n Predicted disease: {predicted_disease}\")"
   ]
  },
  {
   "cell_type": "code",
   "execution_count": 23,
   "metadata": {
    "id": "YrNW4xWmKQWF"
   },
   "outputs": [],
   "source": [
    "def predict_from_sentence(symptoms):\n",
    "  print(symptoms)\n",
    "  hits = 0\n",
    "  misses = 0\n",
    "  symptoms_embedding = np.zeros((max_symptoms_count, 300))\n",
    "  words = [i for i in rt.tokenize(symptoms) if i not in stop]\n",
    "  print(words)\n",
    "  for word in words:\n",
    "    if hits == 17:\n",
    "      break\n",
    "    word_embedding = embeddings_index.get(word)\n",
    "    if word_embedding is not None:\n",
    "      hits += 1\n",
    "      symptoms_embedding[max_symptoms_count-hits] += word_embedding\n",
    "    else:\n",
    "      word_embedding = np.zeros(300)\n",
    "      misses += 1\n",
    "    \n",
    "  print(symptoms_embedding.shape)\n",
    "  print(f\"Of total words in symptoms: hits = {hits}, misses = {misses}, ratio = {hits/(hits+misses)}\")\n",
    "  test_data = np.array([symptoms_embedding])\n",
    "  print(test_data.shape)\n",
    "  pred = model.predict(test_data)\n",
    "  pos = np.argmax(pred, axis=1)\n",
    "  return label_encoder.inverse_transform([pos[0]])[0]"
   ]
  },
  {
   "cell_type": "code",
   "execution_count": 24,
   "metadata": {
    "colab": {
     "base_uri": "https://localhost:8080/"
    },
    "id": "0DGRB4X6Ldu8",
    "outputId": "5065dfbb-39a0-4aa7-b2e9-974750912a04"
   },
   "outputs": [
    {
     "name": "stdout",
     "output_type": "stream",
     "text": [
      "i have skin rash dischromic patches itching and nodal skin eruptions\n",
      "['skin', 'rash', 'dischromic', 'patches', 'itching', 'nodal', 'skin', 'eruptions']\n",
      "(17, 300)\n",
      "Of total words in symptoms: hits = 7, misses = 1, ratio = 0.875\n",
      "(1, 17, 300)\n",
      "\n",
      " Predicted disease: Acne\n"
     ]
    }
   ],
   "source": [
    "sentence = \"i have skin rash dischromic patches itching and nodal skin eruptions\"\n",
    "predicted_disease = predict_from_sentence(sentence)\n",
    "print(f\"\\n Predicted disease: {predicted_disease}\")"
   ]
  },
  {
   "cell_type": "markdown",
   "metadata": {
    "id": "3u7lFaLYGt9f"
   },
   "source": [
    "**Saving models**"
   ]
  },
  {
   "cell_type": "code",
   "execution_count": 25,
   "metadata": {
    "colab": {
     "base_uri": "https://localhost:8080/"
    },
    "id": "ydHD7_PaiRON",
    "outputId": "d1d631c0-a849-496a-874e-26dde15cd9a1"
   },
   "outputs": [
    {
     "name": "stdout",
     "output_type": "stream",
     "text": [
      "INFO:tensorflow:Assets written to: ram://247aff85-ac1b-45d3-931a-76da3e59a17f/assets\n"
     ]
    },
    {
     "name": "stderr",
     "output_type": "stream",
     "text": [
      "WARNING:absl:<keras.layers.recurrent.LSTMCell object at 0x00000203162A9E08> has the same name 'LSTMCell' as a built-in Keras object. Consider renaming <class 'keras.layers.recurrent.LSTMCell'> to avoid naming conflicts when loading with `tf.keras.models.load_model`. If renaming is not possible, pass the object in the `custom_objects` parameter of the load function.\n"
     ]
    }
   ],
   "source": [
    "import pickle \n",
    "\n",
    "filehandler = open(\"./chatbot_v1\", 'wb') \n",
    "pickle.dump(model, filehandler)\n",
    "filehandler.close()"
   ]
  },
  {
   "cell_type": "code",
   "execution_count": 32,
   "metadata": {
    "colab": {
     "base_uri": "https://localhost:8080/"
    },
    "id": "-A9j69uoibYR",
    "outputId": "02b15738-434e-445e-94a3-6728a58a2afc"
   },
   "outputs": [
    {
     "name": "stdout",
     "output_type": "stream",
     "text": [
      "<_io.BufferedReader name='./chatbot_v1'>\n"
     ]
    }
   ],
   "source": [
    "filehandler = open(\"./chatbot_v1\", 'rb') \n",
    "mo = pickle.load(filehandler)\n",
    "print(mo)\n",
    "filehandler.close()"
   ]
  },
  {
   "cell_type": "code",
   "execution_count": 37,
   "metadata": {},
   "outputs": [],
   "source": [
    "# save_path = './chatbot_v1_model.h5'\n",
    "# model.save(save_path)\n",
    "# ## load tensorflow model\n",
    "# model = keras.models.load_model('chatbot_v1_model.h5')"
   ]
  },
  {
   "cell_type": "code",
   "execution_count": null,
   "metadata": {},
   "outputs": [],
   "source": []
  }
 ],
 "metadata": {
  "colab": {
   "collapsed_sections": [],
   "name": "Telemedicine Prediagnoser (Chatbot).ipynb",
   "provenance": []
  },
  "kernelspec": {
   "display_name": "myenv1",
   "language": "python",
   "name": "myenv1"
  },
  "language_info": {
   "codemirror_mode": {
    "name": "ipython",
    "version": 3
   },
   "file_extension": ".py",
   "mimetype": "text/x-python",
   "name": "python",
   "nbconvert_exporter": "python",
   "pygments_lexer": "ipython3",
   "version": "3.7.13"
  }
 },
 "nbformat": 4,
 "nbformat_minor": 1
}
